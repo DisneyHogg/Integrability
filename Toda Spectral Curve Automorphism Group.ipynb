{
 "cells": [
  {
   "cell_type": "code",
   "execution_count": 1,
   "metadata": {},
   "outputs": [],
   "source": [
    "# We are going to be calculating explicitly the spectral curves for affine toda in the case of some specific\n",
    "# choices of Lie algebra.\n",
    "# We will then want to calculate the automorphism group of the spectral curve, hence we import the \n",
    "# RiemannSurface class. \n",
    "from sage.schemes.riemann_surfaces.riemann_surface import RiemannSurface\n",
    "\n",
    "# Note that for all the calculations and formulae to make sense, one should read my Affine Toda notes."
   ]
  },
  {
   "cell_type": "code",
   "execution_count": 8,
   "metadata": {},
   "outputs": [],
   "source": [
    "# We start by specifying the rank (integer >=1) we want to deal with. \n",
    "rank = 4\n",
    "\n",
    "# As a warning, Sage does not currently handle exceptional Lie algebras perfectly yet, so avoid them.\n",
    "# Moreover, calculating the determinant becomes slow, so stick to algebras s.t. the fundamental representation\n",
    "# has dimension <=10.\n",
    "\n",
    "# Choose also the Cartan type (using the previously defined rank)\n",
    "ct = ['A',rank]\n",
    "g = LieAlgebra(QQ,cartan_type=ct,representation='matrix')\n",
    "\n",
    "R = RootSystem(ct)\n",
    "Theta = R.root_lattice().highest_root()\n",
    "\n",
    "# What we care about in Theta is actually just its coefficients, so we will extract these into a list, along with \n",
    "# n0=1 to represent -Theta\n",
    "ni = [1,] + [Theta[i] for i in (1..rank)]\n",
    "\n",
    "# This assigns the matrices corresponding to the Chevalley basis in a list. We make E[0],F[0], correspond to the \n",
    "# highest root element, as if we are taking the extended affine Lie algebra. \n",
    "E = [matrix(g.highest_root_basis_elt(pos=False))]\n",
    "F = [matrix(g.highest_root_basis_elt())]\n",
    "H = []\n",
    "\n",
    "N = E[0].ncols()\n",
    "for i in (1..rank):\n",
    "    E += [matrix(g.e(i))]\n",
    "    F += [matrix(g.f(i))]\n",
    "    H += [matrix(g.h(i))]\n",
    "    \n",
    "# a bit of initialisation of things that won't change\n",
    "BR = QQ # base ring\n",
    "# The variables r are motivated by the algebraic problem at hand, and can be simplified to the following case.\n",
    "r = [1] + rank*[0,]"
   ]
  },
  {
   "cell_type": "code",
   "execution_count": 9,
   "metadata": {},
   "outputs": [
    {
     "name": "stdout",
     "output_type": "stream",
     "text": [
      "Defining p1, p2, p3, p4, Q0, Q1, Q2, Q3, Q4\n",
      "Defining w, z\n"
     ]
    },
    {
     "data": {
      "text/plain": [
       "-x*y^5 + c1*x*y^3 + c2*x*y^2 + c3*x*y + c4*x - x^2 + 1"
      ]
     },
     "metadata": {},
     "output_type": "display_data"
    },
    {
     "name": "stdout",
     "output_type": "stream",
     "text": [
      "C2\n"
     ]
    }
   ],
   "source": [
    "# We are now going to initialise the variables we are going to be using. \n",
    "# If Qsimplify, instead of the symbolic ring we work in a ring specifically constructed for the case in hand. \n",
    "Qsimplify = True\n",
    "\n",
    "if Qsimplify:\n",
    "    variables = [\"p{}\".format(i) for i in (1..rank)] + [\"Q{}\".format(i) for i in (0..rank)]\n",
    "    R = PolynomialRing(BR,variables)\n",
    "    R.inject_variables()\n",
    "    Q = R.gens()[rank:2*rank+1]\n",
    "    Qn = [Q[i]^ni[i] for i in (0..rank)]\n",
    "    # The following ideal is motivated by the problem in hand, and simplifies the answer. \n",
    "    I = R.ideal(prod(Qn)-prod(ni))\n",
    "    Rq = QuotientRing(R,I,variables)\n",
    "    p = Rq.gens()[0:rank]\n",
    "    Q = Rq.gens()[rank:2*rank+1]\n",
    "    LR = LaurentPolynomialRing(Rq,['w','z'])\n",
    "    LR.inject_variables()\n",
    "else:\n",
    "    p = [var(\"p{}\".format(i), latex_name=\"p_{}\".format(i)) for i in (1..rank)]\n",
    "    w = var('w')\n",
    "    z = var('z')\n",
    "    Q = [var(\"Q{}\".format(i), latex_name=\"Q_{}\".format(i)) for i in (0..rank)]\n",
    "    Qn = [Q[i]^ni[i] for i in (0..rank)]\n",
    "\n",
    "# r are the exponents defined above. \n",
    "X = [z^r[i]*E[i] + z^(-r[i])*F[i] for i in (0..rank)]\n",
    "L = [Q[0]*X[0],] + [-p[i-1]*H[i-1] + Q[i]*X[i] for i in (1..rank)]\n",
    "L = sum(L)\n",
    "# L is now the Lax matrix of the affine Toda system, up to some simplifying assumptions.\n",
    "\n",
    "# C is effectively the characteristic polynomial, calculated with det. \n",
    "nc = L.ncols() \n",
    "C = L - w*matrix.identity(nc)\n",
    "C = C.det()\n",
    "\n",
    "# This imposes the condition that prod(Qn) = prod(ni), done automatically in the quotient ring.\n",
    "# This is motivated by the problem that is being considered in general and makes the answer clearer. \n",
    "if Qsimplify:\n",
    "    D = C\n",
    "else:\n",
    "    D = C.subs({Q0:prod(ni)/prod(Qn[1:])}).simplify_full()\n",
    "\n",
    "# This extracts the information about the coefficients of the polynomial, as next we will reconstruct\n",
    "# the polynomial but susbstituting for coefficients that are unwieldy.\n",
    "if not Qsimplify:    \n",
    "    coeffz = D.collect(z).coefficients(z)\n",
    "    exponents = []\n",
    "    coeffs = []\n",
    "    for k in range(len(coeffz)):\n",
    "        coeffzkw = coeffz[k][0].collect(w).coefficients(w)\n",
    "        for j in range(len(coeffzkw)):\n",
    "            exponents += [[coeffzkw[j][1],coeffz[k][1]]]\n",
    "            coeffs += [coeffzkw[j][0]]\n",
    "else:\n",
    "    coeffs = D.coefficients()\n",
    "    exponents = D.exponents()\n",
    "\n",
    "# We automate some substitution to make the resulting curve clearer.\n",
    "# This script is written with the knowledge that we expect the exponents of z to be -1,0,1, \n",
    "nconsts = len(exponents)\n",
    "c = [var(\"c{}\".format(i), latex_name=\"c_{}\".format(i)) for i in (1..nconsts)]\n",
    "Dred = 0\n",
    "A.<x,y> = BR[]\n",
    "j = 0\n",
    "yemin = min([e[0] for e in exponents])\n",
    "xemin = min([e[1] for e in exponents])\n",
    "for i in range(nconsts):\n",
    "    cj = coeffs[i]\n",
    "    if (cj.variables()==()):\n",
    "        Dred += A(cj)*y^(exponents[i][0]-yemin)*x^(exponents[i][1]-xemin)\n",
    "    else:\n",
    "        Dred += c[j]*y^(exponents[i][0]-yemin)*x^(exponents[i][1]-xemin)\n",
    "        j += 1\n",
    "total_consts = j\n",
    "# We now see a form of the spectral curve, where the coefficients have been replaced with some variables c\n",
    "display(Dred.collect(y))\n",
    "f = Dred\n",
    "\n",
    "# In order to calculate the automorphism group, we cannot have symbolic coefficients, so we make an arbitrary \n",
    "# choice. To get evidence that you haven't found an exceptional form of the spectral curve with additional symmetry\n",
    "# multiple substitutions should be tried. \n",
    "for j in range(total_consts):\n",
    "    f = (f.subs({c[j]:2*j})).simplify_full()\n",
    "S = RiemannSurface(A(f))\n",
    "G = S.symplectic_automorphism_group()\n",
    "print(G.structure_description())"
   ]
  },
  {
   "cell_type": "code",
   "execution_count": null,
   "metadata": {},
   "outputs": [],
   "source": []
  }
 ],
 "metadata": {
  "kernelspec": {
   "display_name": "SageMath 9.2",
   "language": "sage",
   "name": "sagemath"
  },
  "language_info": {
   "codemirror_mode": {
    "name": "ipython",
    "version": 3
   },
   "file_extension": ".py",
   "mimetype": "text/x-python",
   "name": "python",
   "nbconvert_exporter": "python",
   "pygments_lexer": "ipython3",
   "version": "3.8.6"
  }
 },
 "nbformat": 4,
 "nbformat_minor": 2
}
